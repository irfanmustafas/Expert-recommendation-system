{
 "cells": [
  {
   "cell_type": "code",
   "execution_count": 362,
   "metadata": {
    "collapsed": true
   },
   "outputs": [],
   "source": [
    "import graphlab as gl\n",
    "import evaluate\n",
    "import cPickle as pickle"
   ]
  },
  {
   "cell_type": "code",
   "execution_count": 363,
   "metadata": {
    "collapsed": true
   },
   "outputs": [],
   "source": [
    "# qword = pickle.load(open('../features/question_word_wordvec100.p', 'rb'))\n",
    "# uword = pickle.load(open('../features/user_word_wordvec100.p', 'rb'))"
   ]
  },
  {
   "cell_type": "code",
   "execution_count": 483,
   "metadata": {
    "collapsed": false
   },
   "outputs": [],
   "source": [
    "ques = []\n",
    "users = []\n",
    "vals = []\n",
    "with open('../train_data/invited_info_train.txt', 'r') as f1:\n",
    "    for line in f1:\n",
    "        qid, uid, val = line.rstrip('\\n').split()\n",
    "        ques.append(qid)\n",
    "        users.append(uid)\n",
    "        vals.append(int(val))\n",
    "\n",
    "        "
   ]
  },
  {
   "cell_type": "code",
   "execution_count": 484,
   "metadata": {
    "collapsed": false
   },
   "outputs": [],
   "source": [
    "quesv = []\n",
    "usersv = []\n",
    "#vals = []\n",
    "with open('../train_data/validate_nolabel.txt', 'r') as f1:\n",
    "    line = f1.readline()\n",
    "    for line in f1:\n",
    "        qid, uid =  line.rstrip('\\r\\n').split(',')\n",
    "        quesv.append(qid)\n",
    "        usersv.append(uid)\n",
    "        #vals.append(int(val))\n"
   ]
  },
  {
   "cell_type": "code",
   "execution_count": 485,
   "metadata": {
    "collapsed": true
   },
   "outputs": [],
   "source": [
    "quest = []\n",
    "userst = []\n",
    "#vals = []\n",
    "with open('../train_data/test_nolabel.txt', 'r') as f1:\n",
    "    line = f1.readline()\n",
    "    for line in f1:\n",
    "        qid, uid =  line.rstrip('\\r\\n').split(',')\n",
    "        quest.append(qid)\n",
    "        userst.append(uid)\n",
    "        #vals.append(int(val))\n"
   ]
  },
  {
   "cell_type": "code",
   "execution_count": 486,
   "metadata": {
    "collapsed": false
   },
   "outputs": [],
   "source": [
    "sf = gl.SFrame({'user_id':users, 'item_id':ques, 'rating':vals})"
   ]
  },
  {
   "cell_type": "code",
   "execution_count": 487,
   "metadata": {
    "collapsed": true
   },
   "outputs": [],
   "source": [
    "sfv  = gl.SFrame({'user_id':usersv, 'item_id':quesv})"
   ]
  },
  {
   "cell_type": "code",
   "execution_count": 488,
   "metadata": {
    "collapsed": true
   },
   "outputs": [],
   "source": [
    "sft  = gl.SFrame({'user_id':userst, 'item_id':quest})"
   ]
  },
  {
   "cell_type": "code",
   "execution_count": 489,
   "metadata": {
    "collapsed": false
   },
   "outputs": [],
   "source": [
    "topics = []\n",
    "with open('../train_data/user_info.txt', 'r') as f1:\n",
    "    for line in f1:\n",
    "        topic = map(str, (line.split()[1]).split('/'))\n",
    "        topics.append(topic)\n",
    "\n",
    "user_keys = pickle.load(open('../features/user_info_keys.dat', 'rb'))\n",
    "ques_keys = pickle.load(open('../features/question_info_keys.dat', 'rb'))\n",
    "\n",
    "#ufeat = []\n",
    "#for i in range(len(topics)):\n",
    "    #ufeat.append([1 if x in topics[i] else 0 for x in range(145)])\n",
    "questopics = []\n",
    "qnum = []\n",
    "\n",
    "with open('../train_data/question_info.txt', 'r') as f1:\n",
    "    for line in f1:\n",
    "        questopics.append(line.split()[1])\n",
    "        up, tans, ans = map(int, line.split()[4:7])\n",
    "        qnum.append({'upvotes': up, 'topans':tans, 'answers':ans})\n",
    "\n",
    "    "
   ]
  },
  {
   "cell_type": "code",
   "execution_count": 490,
   "metadata": {
    "collapsed": false,
    "scrolled": true
   },
   "outputs": [
    {
     "name": "stdout",
     "output_type": "stream",
     "text": [
      "+-------------------------------+-------------------------------+\n",
      "|            item_id            |        numeric_feature        |\n",
      "+-------------------------------+-------------------------------+\n",
      "| c1c0075239841777d5b01c40b3... | [-0.189298816425, -0.06583... |\n",
      "| 367edcb36424493a7cf80f7090... | [-0.571765508888, 0.070196... |\n",
      "| fb9e401d86f20205d97a25f3aa... | [-0.0909341260999, 0.44385... |\n",
      "| e153659c6c654cd12122232fca... | [-0.158287365563, -0.32721... |\n",
      "| c1718491292fd44b9b33397d5e... | [-0.0972034871296, 0.06211... |\n",
      "| 85f22d70bd58c56708e9c3b276... | [0.164126001984, 0.1477459... |\n",
      "| 3461879e8b67f1f9e08882f7f1... | [-0.219587751089, -0.96827... |\n",
      "| 58695dc8b407850d8a028cec78... | [0.147465028776, -0.046943... |\n",
      "| 39b402c90bda0ba4b5fe125ac8... | [0.0128764260132, -0.43330... |\n",
      "| 8304fb2d94318d4768acf96acc... | [-0.200068923553, 0.062092... |\n",
      "+-------------------------------+-------------------------------+\n",
      "[8095 rows x 2 columns]\n",
      "Note: Only the head of the SFrame is printed.\n",
      "You can use print_rows(num_rows=m, num_columns=n) to print more rows and columns.\n"
     ]
    }
   ],
   "source": [
    "user_info = gl.SFrame({'user_id': user_keys, 'numeric_feature':uword})\n",
    "ques_info = gl.SFrame({'item_id': ques_keys, 'numeric_feature':qword})\n",
    "print ques_info"
   ]
  },
  {
   "cell_type": "code",
   "execution_count": 491,
   "metadata": {
    "collapsed": false
   },
   "outputs": [
    {
     "data": {
      "text/html": [
       "<pre>Recsys training: model = ranking_factorization_recommender</pre>"
      ],
      "text/plain": [
       "Recsys training: model = ranking_factorization_recommender"
      ]
     },
     "metadata": {},
     "output_type": "display_data"
    }
   ],
   "source": [
    "m1 = gl.ranking_factorization_recommender.create(sf, target='rating', ranking_regularization = 0.05, \n",
    "                                                 unobserved_rating_value=-0.5, verbose=False,\n",
    "                                                 solver='auto')\n"
   ]
  },
  {
   "cell_type": "code",
   "execution_count": 492,
   "metadata": {
    "collapsed": false
   },
   "outputs": [],
   "source": [
    "scores = m1.predict(sfv)"
   ]
  },
  {
   "cell_type": "code",
   "execution_count": 493,
   "metadata": {
    "collapsed": true
   },
   "outputs": [],
   "source": [
    "predictions = []\n",
    "\n",
    "#normalization\n",
    "maxscore = max(scores)\n",
    "minscore = min(scores)\n",
    "for score in scores:\n",
    "    predictions.append((score-minscore)/float(maxscore-minscore))"
   ]
  },
  {
   "cell_type": "code",
   "execution_count": 494,
   "metadata": {
    "collapsed": false
   },
   "outputs": [
    {
     "name": "stdout",
     "output_type": "stream",
     "text": [
      "30466\n"
     ]
    }
   ],
   "source": [
    "#fname = 'tempfile'\n",
    "fname = '../validation/rankfactor.csv'\n",
    "print len(quesv)\n",
    "with open(fname, 'w') as f1:\n",
    "    f1.write('qid,uid,label\\n')\n",
    "    for i in range(len(quesv)):\n",
    "        f1.write(quesv[i]+','+usersv[i]+','+str(predictions[i])+'\\n')\n",
    "#print evaluate.ndcg(fname)\n",
    "    "
   ]
  },
  {
   "cell_type": "code",
   "execution_count": 495,
   "metadata": {
    "collapsed": true
   },
   "outputs": [],
   "source": [
    "scores = m1.predict(sft)"
   ]
  },
  {
   "cell_type": "code",
   "execution_count": 496,
   "metadata": {
    "collapsed": true
   },
   "outputs": [],
   "source": [
    "predictions = []\n",
    "\n",
    "#normalization\n",
    "maxscore = max(scores)\n",
    "minscore = min(scores)\n",
    "for score in scores:\n",
    "    predictions.append((score-minscore)/float(maxscore-minscore))"
   ]
  },
  {
   "cell_type": "code",
   "execution_count": 497,
   "metadata": {
    "collapsed": false
   },
   "outputs": [
    {
     "name": "stdout",
     "output_type": "stream",
     "text": [
      "30167\n"
     ]
    }
   ],
   "source": [
    "fname = '../testsubmissions/rankfactor.csv'\n",
    "print len(quest)\n",
    "with open(fname, 'w') as f1:\n",
    "    f1.write('qid,uid,label\\n')\n",
    "    for i in range(len(quest)):\n",
    "        f1.write(quest[i]+','+userst[i]+','+str(predictions[i])+'\\n')\n",
    "#print evaluate.ndcg(fname)\n",
    "    "
   ]
  },
  {
   "cell_type": "code",
   "execution_count": null,
   "metadata": {
    "collapsed": true
   },
   "outputs": [],
   "source": []
  }
 ],
 "metadata": {
  "kernelspec": {
   "display_name": "Python 2",
   "language": "python",
   "name": "python2"
  },
  "language_info": {
   "codemirror_mode": {
    "name": "ipython",
    "version": 2
   },
   "file_extension": ".py",
   "mimetype": "text/x-python",
   "name": "python",
   "nbconvert_exporter": "python",
   "pygments_lexer": "ipython2",
   "version": "2.7.11"
  }
 },
 "nbformat": 4,
 "nbformat_minor": 0
}
